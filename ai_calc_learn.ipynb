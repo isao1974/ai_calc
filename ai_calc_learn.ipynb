{
  "nbformat": 4,
  "nbformat_minor": 0,
  "metadata": {
    "colab": {
      "name": "\bai_calc_learn.ipynb",
      "version": "0.3.2",
      "provenance": [],
      "collapsed_sections": [],
      "include_colab_link": true
    },
    "kernelspec": {
      "name": "python3",
      "display_name": "Python 3"
    }
  },
  "cells": [
    {
      "cell_type": "markdown",
      "metadata": {
        "id": "view-in-github",
        "colab_type": "text"
      },
      "source": [
        "<a href=\"https://colab.research.google.com/github/isao1974/ai_calc/blob/master/%08ai_calc_learn.ipynb\" target=\"_parent\"><img src=\"https://colab.research.google.com/assets/colab-badge.svg\" alt=\"Open In Colab\"/></a>"
      ]
    },
    {
      "cell_type": "markdown",
      "metadata": {
        "id": "GhX4v7sXiZA6",
        "colab_type": "text"
      },
      "source": [
        "https://qiita.com/Sa2Knight/items/221be46f2702ae453ba9\n",
        "を参考に足し算を学習する学習モデルを作成する"
      ]
    },
    {
      "cell_type": "code",
      "metadata": {
        "id": "G9Eq19HairsF",
        "colab_type": "code",
        "colab": {}
      },
      "source": [
        "from pandas import DataFrame\n",
        "from sklearn import linear_model\n",
        "\n",
        "formulas = DataFrame([\n",
        "    [0, 0],\n",
        "    [0, 1],\n",
        "    [0, 2],\n",
        "    [1, 0],\n",
        "    [1, 1],\n",
        "    [1, 2],\n",
        "    [2, 0],\n",
        "    [2, 1],\n",
        "    [2, 2]\n",
        "])\n",
        "answers = DataFrame([0, 1, 2, 1, 2, 3, 2, 3, 4])\n",
        "\n",
        "model = linear_model.LinearRegression()\n",
        "model.fit(formulas, answers)\n",
        "\n",
        "predected_answer = model.predict([[10, 20]])\n",
        "\n",
        "while True:\n",
        "\n",
        "     # 標準入力から計算式を取得\n",
        "     print('> ', end='')\n",
        "     x, y = list(map(lambda x: int(x), input().split(' ')))\n",
        "\n",
        "     # 学習モデルを用いて回答を取得し、標準出力\n",
        "     predected_answer = model.predict([[x, y]])\n",
        "     print(\"{0} + {1} = {2}\".format(x, y, int(predected_answer[0][0])))"
      ],
      "execution_count": 0,
      "outputs": []
    }
  ]
}