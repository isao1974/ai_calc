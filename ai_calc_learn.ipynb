{
  "nbformat": 4,
  "nbformat_minor": 0,
  "metadata": {
    "colab": {
      "name": "ai_calc_learn.ipynb",
      "version": "0.3.2",
      "provenance": [],
      "collapsed_sections": [],
      "include_colab_link": true
    },
    "kernelspec": {
      "name": "python3",
      "display_name": "Python 3"
    }
  },
  "cells": [
    {
      "cell_type": "markdown",
      "metadata": {
        "id": "view-in-github",
        "colab_type": "text"
      },
      "source": [
        "<a href=\"https://colab.research.google.com/github/isao1974/ai_calc/blob/master/ai_calc_learn.ipynb\" target=\"_parent\"><img src=\"https://colab.research.google.com/assets/colab-badge.svg\" alt=\"Open In Colab\"/></a>"
      ]
    },
    {
      "cell_type": "markdown",
      "metadata": {
        "id": "Af1MtjVWV4Vw",
        "colab_type": "text"
      },
      "source": [
        "勉強用コード\n",
        "\n",
        "学習済みモデルを使用する。\n",
        "ph1: 加算する学習モデルを作成\n",
        "ph2:四則演算する学習モデルを作成"
      ]
    },
    {
      "cell_type": "markdown",
      "metadata": {
        "id": "GhX4v7sXiZA6",
        "colab_type": "text"
      },
      "source": [
        "https://qiita.com/Sa2Knight/items/221be46f2702ae453ba9\n",
        "を参考に足し算を学習する学習モデルを作成する\n",
        "モデルは保存する。"
      ]
    },
    {
      "cell_type": "markdown",
      "metadata": {
        "id": "Gzj5takscaBD",
        "colab_type": "text"
      },
      "source": [
        "加算学習"
      ]
    },
    {
      "cell_type": "code",
      "metadata": {
        "id": "G9Eq19HairsF",
        "colab_type": "code",
        "colab": {}
      },
      "source": [
        "from pandas import DataFrame\n",
        "from sklearn import linear_model\n",
        "import pickle\n",
        "\n",
        "formulas = DataFrame([\n",
        "    [0, 0],\n",
        "    [0, 1],\n",
        "    [0, 2],\n",
        "    [1, 0],\n",
        "    [1, 1],\n",
        "    [1, 2],\n",
        "    [2, 0],\n",
        "    [2, 1],\n",
        "    [2, 2]\n",
        "])\n",
        "answers = DataFrame([0, 1, 2, 1, 2, 3, 2, 3, 4])\n",
        "\n",
        "model = linear_model.LinearRegression()\n",
        "model.fit(formulas, answers)\n",
        "\n",
        "with open('model.pickle', mode='wb') as fp:\n",
        "  pickle.dump(model, fp)\n",
        "  \n",
        "\n",
        "while True:\n",
        "\n",
        "     # 標準入力から計算式を取得\n",
        "     print('> ', end='')\n",
        "     inStr = input()\n",
        "    \n",
        "     if inStr == 'q':\n",
        "      break\n",
        "        \n",
        "     x, y = list(map(lambda x: int(x), inStr.split(' ')))\n",
        "\n",
        "     # 学習モデルを用いて回答を取得し、標準出力\n",
        "     predected_answer = model.predict([[x, y]])\n",
        "     print(\"{0} + {1} = {2}\".format(x, y, int(predected_answer[0][0])))"
      ],
      "execution_count": 0,
      "outputs": []
    },
    {
      "cell_type": "markdown",
      "metadata": {
        "id": "zH80unXnPSmH",
        "colab_type": "text"
      },
      "source": [
        "保存したモデルを使う"
      ]
    },
    {
      "cell_type": "markdown",
      "metadata": {
        "id": "kH8FpBCAn9xB",
        "colab_type": "text"
      },
      "source": [
        "DataFrame の１番目を演算子として学習モデルを作る。\n",
        "linear_model.LinearRegression だと期待する結果が得られなかったので、\n",
        "様々な識別器を試してみる。\n",
        "\n",
        "識別器一覧\n",
        "https://qiita.com/yhyhyhjp/items/3ca101f1cb5dee310c06\n",
        "\n",
        "結果は失敗。\n",
        "原因推測\n",
        "* 学習データが少ない？\n",
        "* モデルのハイパーパラメータが調整できてない？\n",
        "* 機械学習では無理？ディープラーニングだといける？"
      ]
    },
    {
      "cell_type": "code",
      "metadata": {
        "id": "YoTQI5QAPU1a",
        "colab_type": "code",
        "colab": {}
      },
      "source": [
        "from pandas import DataFrame\n",
        "from sklearn import linear_model\n",
        "import pickle\n",
        "\n",
        "with open('model.pickle', mode='rb') as fp:\n",
        "  model = pickle.load(fp)\n",
        "  \n",
        "  # 加算\n",
        "  x, y = 10, 20\n",
        "  predected_answer = model.predict([[x, y]])\n",
        "  print(\"{0} + {1} = {3}\".format(x, y, z, int(predected_answer[0])))"
      ],
      "execution_count": 0,
      "outputs": []
    },
    {
      "cell_type": "markdown",
      "metadata": {
        "id": "LCeMlarhclUK",
        "colab_type": "text"
      },
      "source": [
        "csvファイルからデータを読み込み学習させる。\n",
        "\n",
        "csvファイルはgdrive上に用意するためgdriveをマウントする。\n",
        "colaboratory 上でのCSVファイルの読み込みは下記を参照\n",
        "https://qiita.com/uni-3/items/201aaa2708260cc790b8"
      ]
    },
    {
      "cell_type": "code",
      "metadata": {
        "id": "9lZ4JKh1bgdQ",
        "colab_type": "code",
        "colab": {}
      },
      "source": [
        "from google.colab import drive\n",
        "drive.mount('/content/drive')"
      ],
      "execution_count": 0,
      "outputs": []
    },
    {
      "cell_type": "markdown",
      "metadata": {
        "id": "0y5JiL07-Am5",
        "colab_type": "text"
      },
      "source": [
        "csv ファイルからデータ読み込み"
      ]
    },
    {
      "cell_type": "code",
      "metadata": {
        "id": "SVYZKtcBcKog",
        "colab_type": "code",
        "outputId": "65051410-b8c2-4cd9-a332-323c55fa8716",
        "colab": {
          "base_uri": "https://localhost:8080/",
          "height": 1000
        }
      },
      "source": [
        "import pandas as pd\n",
        "from pandas import DataFrame\n",
        "from sklearn import linear_model\n",
        "from sklearn.neighbors import KNeighborsClassifier\n",
        "from sklearn.svm import SVC\n",
        "from sklearn.tree import DecisionTreeClassifier\n",
        "from sklearn.ensemble import RandomForestClassifier, AdaBoostClassifier\n",
        "from sklearn.naive_bayes import GaussianNB\n",
        "from sklearn.discriminant_analysis import LinearDiscriminantAnalysis\n",
        "from sklearn.discriminant_analysis import QuadraticDiscriminantAnalysis\n",
        "from sklearn.model_selection import train_test_split\n",
        "import sys\n",
        "import os\n",
        "import pickle\n",
        "\n",
        "h = .02  # step size in the mesh\n",
        "\n",
        "classifiers = [\n",
        "    KNeighborsClassifier(3),\n",
        "    SVC(kernel=\"linear\", C=0.025),\n",
        "    SVC(gamma=2, C=1),\n",
        "    DecisionTreeClassifier(max_depth=5),\n",
        "    RandomForestClassifier(max_depth=5, n_estimators=10, max_features=1),\n",
        "    AdaBoostClassifier(),\n",
        "    GaussianNB(),\n",
        "    LinearDiscriminantAnalysis(),\n",
        "    QuadraticDiscriminantAnalysis()]\n",
        "\n",
        "\n",
        "# test file existence\n",
        "testDataFile = \"drive/My Drive/Colab Notebooks/data.csv\"\n",
        "if os.path.isfile(testDataFile) == False:\n",
        "  print(\"file not found\")\n",
        "  sys.exit()\n",
        "  \n",
        "\n",
        "# read file and split data\n",
        "data = pd.read_csv(testDataFile, header=0)\n",
        "X = data.loc[:, ['ope', '1st', '2nd']]\n",
        "Y = data.loc[:, ['ans']]\n",
        "X_train, X_test, Y_train, Y_test = train_test_split(X, Y, train_size=0.8)\n",
        "\n",
        "\n",
        "#learning\n",
        "for model in classifiers:\n",
        "  print(model.__class__.__name__)  \n",
        "  filename = \"drive/My Drive/Colab Notebooks/\"\n",
        "  filename += model.__class__.__name__\n",
        "  filename += \".pickle\"\n",
        "  print(filename)\n",
        "  model.fit(X_train, Y_train)\n",
        "  print(model.score(X_test, Y_test))\n",
        "  print(\"-------\")\n",
        "  \n",
        "  with open(filename, mode='wb') as fp:\n",
        "    pickle.dump(model, fp)"
      ],
      "execution_count": 94,
      "outputs": [
        {
          "output_type": "stream",
          "text": [
            "KNeighborsClassifier\n",
            "drive/My Drive/Colab Notebooks/KNeighborsClassifier.pickle\n",
            "0.8813559322033898\n",
            "-------\n",
            "SVC\n",
            "drive/My Drive/Colab Notebooks/SVC.pickle\n",
            "0.2033898305084746\n",
            "-------\n",
            "SVC\n",
            "drive/My Drive/Colab Notebooks/SVC.pickle\n",
            "0.9788135593220338\n",
            "-------\n",
            "DecisionTreeClassifier\n",
            "drive/My Drive/Colab Notebooks/DecisionTreeClassifier.pickle\n",
            "0.3305084745762712\n",
            "-------\n",
            "RandomForestClassifier\n",
            "drive/My Drive/Colab Notebooks/RandomForestClassifier.pickle\n",
            "0.5127118644067796\n",
            "-------\n",
            "AdaBoostClassifier\n",
            "drive/My Drive/Colab Notebooks/AdaBoostClassifier.pickle\n"
          ],
          "name": "stdout"
        },
        {
          "output_type": "stream",
          "text": [
            "/usr/local/lib/python3.6/dist-packages/ipykernel_launcher.py:51: DataConversionWarning: A column-vector y was passed when a 1d array was expected. Please change the shape of y to (n_samples, ), for example using ravel().\n",
            "/usr/local/lib/python3.6/dist-packages/sklearn/utils/validation.py:724: DataConversionWarning: A column-vector y was passed when a 1d array was expected. Please change the shape of y to (n_samples, ), for example using ravel().\n",
            "  y = column_or_1d(y, warn=True)\n",
            "/usr/local/lib/python3.6/dist-packages/sklearn/utils/validation.py:724: DataConversionWarning: A column-vector y was passed when a 1d array was expected. Please change the shape of y to (n_samples, ), for example using ravel().\n",
            "  y = column_or_1d(y, warn=True)\n",
            "/usr/local/lib/python3.6/dist-packages/ipykernel_launcher.py:51: DataConversionWarning: A column-vector y was passed when a 1d array was expected. Please change the shape of y to (n_samples,), for example using ravel().\n",
            "/usr/local/lib/python3.6/dist-packages/sklearn/utils/validation.py:724: DataConversionWarning: A column-vector y was passed when a 1d array was expected. Please change the shape of y to (n_samples, ), for example using ravel().\n",
            "  y = column_or_1d(y, warn=True)\n"
          ],
          "name": "stderr"
        },
        {
          "output_type": "stream",
          "text": [
            "0.11864406779661017\n",
            "-------\n",
            "GaussianNB\n",
            "drive/My Drive/Colab Notebooks/GaussianNB.pickle\n",
            "0.22033898305084745\n",
            "-------\n",
            "LinearDiscriminantAnalysis\n",
            "drive/My Drive/Colab Notebooks/LinearDiscriminantAnalysis.pickle\n",
            "0.19491525423728814\n",
            "-------\n",
            "QuadraticDiscriminantAnalysis\n",
            "drive/My Drive/Colab Notebooks/QuadraticDiscriminantAnalysis.pickle\n",
            "0.0\n",
            "-------\n"
          ],
          "name": "stdout"
        },
        {
          "output_type": "stream",
          "text": [
            "/usr/local/lib/python3.6/dist-packages/sklearn/utils/validation.py:724: DataConversionWarning: A column-vector y was passed when a 1d array was expected. Please change the shape of y to (n_samples, ), for example using ravel().\n",
            "  y = column_or_1d(y, warn=True)\n",
            "/usr/local/lib/python3.6/dist-packages/sklearn/utils/validation.py:724: DataConversionWarning: A column-vector y was passed when a 1d array was expected. Please change the shape of y to (n_samples, ), for example using ravel().\n",
            "  y = column_or_1d(y, warn=True)\n",
            "/usr/local/lib/python3.6/dist-packages/sklearn/utils/validation.py:724: DataConversionWarning: A column-vector y was passed when a 1d array was expected. Please change the shape of y to (n_samples, ), for example using ravel().\n",
            "  y = column_or_1d(y, warn=True)\n",
            "/usr/local/lib/python3.6/dist-packages/sklearn/discriminant_analysis.py:693: UserWarning: Variables are collinear\n",
            "  warnings.warn(\"Variables are collinear\")\n",
            "/usr/local/lib/python3.6/dist-packages/sklearn/discriminant_analysis.py:717: RuntimeWarning: divide by zero encountered in power\n",
            "  X2 = np.dot(Xm, R * (S ** (-0.5)))\n",
            "/usr/local/lib/python3.6/dist-packages/sklearn/discriminant_analysis.py:717: RuntimeWarning: invalid value encountered in multiply\n",
            "  X2 = np.dot(Xm, R * (S ** (-0.5)))\n",
            "/usr/local/lib/python3.6/dist-packages/sklearn/discriminant_analysis.py:720: RuntimeWarning: divide by zero encountered in log\n",
            "  u = np.asarray([np.sum(np.log(s)) for s in self.scalings_])\n"
          ],
          "name": "stderr"
        }
      ]
    },
    {
      "cell_type": "markdown",
      "metadata": {
        "id": "NGamz-MCC5oI",
        "colab_type": "text"
      },
      "source": [
        "学習モデルを使って推論\n",
        "90%のスコアのSVCで推論させたが、数値が小さいときはいいけど、2桁になるともうダメ。"
      ]
    },
    {
      "cell_type": "code",
      "metadata": {
        "id": "nAf3ZCeXC8fo",
        "colab_type": "code",
        "colab": {
          "base_uri": "https://localhost:8080/",
          "height": 34
        },
        "outputId": "43566df7-7500-4283-877f-77a1625f9ce5"
      },
      "source": [
        "from pandas import DataFrame\n",
        "from sklearn import linear_model\n",
        "import pickle\n",
        "\n",
        "filename = \"drive/My Drive/Colab Notebooks/\"\n",
        "filename += \"SVC\"\n",
        "filename += \".pickle\"\n",
        "\n",
        "\n",
        "with open(filename, mode='rb') as fp:\n",
        "  model = pickle.load(fp)\n",
        "  \n",
        "  # 加算\n",
        "  ope, x, y = 0, 100, 200\n",
        "  predected_answer = model.predict([[ope, x, y]])\n",
        "  print(\"{0} ,{1}, {2} = {3}\".format(ope, x, y, int(predected_answer[0])))"
      ],
      "execution_count": 99,
      "outputs": [
        {
          "output_type": "stream",
          "text": [
            "0 ,100, 200 = 9\n"
          ],
          "name": "stdout"
        }
      ]
    },
    {
      "cell_type": "markdown",
      "metadata": {
        "id": "VOkZWQyeCmfb",
        "colab_type": "text"
      },
      "source": [
        "deep learning で学習"
      ]
    },
    {
      "cell_type": "code",
      "metadata": {
        "id": "5qGJYHiwCpxU",
        "colab_type": "code",
        "colab": {}
      },
      "source": [
        ""
      ],
      "execution_count": 0,
      "outputs": []
    }
  ]
}