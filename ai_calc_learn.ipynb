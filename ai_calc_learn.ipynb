{
  "nbformat": 4,
  "nbformat_minor": 0,
  "metadata": {
    "colab": {
      "name": "ai_calc_learn.ipynb",
      "version": "0.3.2",
      "provenance": [],
      "collapsed_sections": [],
      "include_colab_link": true
    },
    "kernelspec": {
      "name": "python3",
      "display_name": "Python 3"
    },
    "accelerator": "GPU"
  },
  "cells": [
    {
      "cell_type": "markdown",
      "metadata": {
        "id": "view-in-github",
        "colab_type": "text"
      },
      "source": [
        "<a href=\"https://colab.research.google.com/github/isao1974/ai_calc/blob/master/ai_calc_learn.ipynb\" target=\"_parent\"><img src=\"https://colab.research.google.com/assets/colab-badge.svg\" alt=\"Open In Colab\"/></a>"
      ]
    },
    {
      "cell_type": "markdown",
      "metadata": {
        "id": "LCeMlarhclUK",
        "colab_type": "text"
      },
      "source": [
        "# 準備\n",
        "csvファイルからデータを読み込み学習させる。\n",
        "\n",
        "csvファイルはgdrive上に用意するためgdriveをマウントする。\n",
        "colaboratory 上でのCSVファイルの読み込みは下記を参照\n",
        "https://qiita.com/uni-3/items/201aaa2708260cc790b8"
      ]
    },
    {
      "cell_type": "code",
      "metadata": {
        "id": "9lZ4JKh1bgdQ",
        "colab_type": "code",
        "outputId": "40d04d4a-a474-4bda-fccd-f2396d724dc5",
        "colab": {
          "base_uri": "https://localhost:8080/",
          "height": 122
        }
      },
      "source": [
        "from google.colab import drive\n",
        "drive.mount('/content/drive')"
      ],
      "execution_count": 0,
      "outputs": [
        {
          "output_type": "stream",
          "text": [
            "Go to this URL in a browser: https://accounts.google.com/o/oauth2/auth?client_id=947318989803-6bn6qk8qdgf4n4g3pfee6491hc0brc4i.apps.googleusercontent.com&redirect_uri=urn%3Aietf%3Awg%3Aoauth%3A2.0%3Aoob&scope=email%20https%3A%2F%2Fwww.googleapis.com%2Fauth%2Fdocs.test%20https%3A%2F%2Fwww.googleapis.com%2Fauth%2Fdrive%20https%3A%2F%2Fwww.googleapis.com%2Fauth%2Fdrive.photos.readonly%20https%3A%2F%2Fwww.googleapis.com%2Fauth%2Fpeopleapi.readonly&response_type=code\n",
            "\n",
            "Enter your authorization code:\n",
            "··········\n",
            "Mounted at /content/drive\n"
          ],
          "name": "stdout"
        }
      ]
    },
    {
      "cell_type": "markdown",
      "metadata": {
        "id": "XU9Rs2X32RTN",
        "colab_type": "text"
      },
      "source": [
        ""
      ]
    },
    {
      "cell_type": "code",
      "metadata": {
        "id": "jTx6tGY6WGx8",
        "colab_type": "code",
        "outputId": "3680de1f-1e67-4ea4-8c24-176f9026b9b6",
        "colab": {
          "base_uri": "https://localhost:8080/",
          "height": 34
        }
      },
      "source": [
        "import tensorflow as tf\n",
        "tf.test.gpu_device_name()"
      ],
      "execution_count": 0,
      "outputs": [
        {
          "output_type": "execute_result",
          "data": {
            "text/plain": [
              "'/device:GPU:0'"
            ]
          },
          "metadata": {
            "tags": []
          },
          "execution_count": 5
        }
      ]
    },
    {
      "cell_type": "markdown",
      "metadata": {
        "id": "A97vg8Tm2UeZ",
        "colab_type": "text"
      },
      "source": [
        "# 学習用データ作成"
      ]
    },
    {
      "cell_type": "code",
      "metadata": {
        "id": "JA7ouKHF2ZYq",
        "colab_type": "code",
        "colab": {
          "base_uri": "https://localhost:8080/",
          "height": 374
        },
        "outputId": "5e3de4d7-ca12-42c3-aa2b-a03e25fea989"
      },
      "source": [
        "import pdb\n",
        "pdb.set_trace()\n",
        "\n",
        "f = random.random()"
      ],
      "execution_count": 44,
      "outputs": [
        {
          "output_type": "stream",
          "text": [
            "--Return--\n",
            "> <ipython-input-44-7837b9b26f41>(2)<module>()->None\n",
            "-> pdb.set_trace()\n",
            "(Pdb) h\n",
            "\n",
            "Documented commands (type help <topic>):\n",
            "========================================\n",
            "EOF    c          d        h         list      q        rv       undisplay\n",
            "a      cl         debug    help      ll        quit     s        unt      \n",
            "alias  clear      disable  ignore    longlist  r        source   until    \n",
            "args   commands   display  interact  n         restart  step     up       \n",
            "b      condition  down     j         next      return   tbreak   w        \n",
            "break  cont       enable   jump      p         retval   u        whatis   \n",
            "bt     continue   exit     l         pp        run      unalias  where    \n",
            "\n",
            "Miscellaneous help topics:\n",
            "==========================\n",
            "exec  pdb\n",
            "\n",
            "(Pdb) c\n",
            "aaa\n"
          ],
          "name": "stdout"
        }
      ]
    },
    {
      "cell_type": "markdown",
      "metadata": {
        "id": "Af1MtjVWV4Vw",
        "colab_type": "text"
      },
      "source": [
        "# 勉強用コード\n",
        "\n",
        "学習済みモデルを使用する。\n",
        "*   ph1: 加算する学習モデルを作成\n",
        "*   ph2:四則演算する学習モデルを作成\n",
        "\n"
      ]
    },
    {
      "cell_type": "markdown",
      "metadata": {
        "id": "GhX4v7sXiZA6",
        "colab_type": "text"
      },
      "source": [
        "https://qiita.com/Sa2Knight/items/221be46f2702ae453ba9\n",
        "を参考に足し算を学習する学習モデルを作成する\n",
        "モデルは保存する。"
      ]
    },
    {
      "cell_type": "markdown",
      "metadata": {
        "id": "Gzj5takscaBD",
        "colab_type": "text"
      },
      "source": [
        "加算学習"
      ]
    },
    {
      "cell_type": "code",
      "metadata": {
        "id": "G9Eq19HairsF",
        "colab_type": "code",
        "colab": {}
      },
      "source": [
        "from pandas import DataFrame\n",
        "from sklearn import linear_model\n",
        "import pickle\n",
        "\n",
        "formulas = DataFrame([\n",
        "    [0, 0],\n",
        "    [0, 1],\n",
        "    [0, 2],\n",
        "    [1, 0],\n",
        "    [1, 1],\n",
        "    [1, 2],\n",
        "    [2, 0],\n",
        "    [2, 1],\n",
        "    [2, 2]\n",
        "])\n",
        "answers = DataFrame([0, 1, 2, 1, 2, 3, 2, 3, 4])\n",
        "\n",
        "model = linear_model.LinearRegression()\n",
        "model.fit(formulas, answers)\n",
        "\n",
        "with open('model.pickle', mode='wb') as fp:\n",
        "  pickle.dump(model, fp)\n",
        "  \n",
        "\n",
        "while True:\n",
        "\n",
        "     # 標準入力から計算式を取得\n",
        "     print('> ', end='')\n",
        "     inStr = input()\n",
        "    \n",
        "     if inStr == 'q':\n",
        "      break\n",
        "        \n",
        "     x, y = list(map(lambda x: int(x), inStr.split(' ')))\n",
        "\n",
        "     # 学習モデルを用いて回答を取得し、標準出力\n",
        "     predected_answer = model.predict([[x, y]])\n",
        "     print(\"{0} + {1} = {2}\".format(x, y, int(predected_answer[0][0])))"
      ],
      "execution_count": 0,
      "outputs": []
    },
    {
      "cell_type": "markdown",
      "metadata": {
        "id": "zH80unXnPSmH",
        "colab_type": "text"
      },
      "source": [
        "保存したモデルを使う"
      ]
    },
    {
      "cell_type": "markdown",
      "metadata": {
        "id": "kH8FpBCAn9xB",
        "colab_type": "text"
      },
      "source": [
        "DataFrame の１番目を演算子として学習モデルを作る。\n",
        "linear_model.LinearRegression だと期待する結果が得られなかったので、\n",
        "様々な識別器を試してみる。\n",
        "\n",
        "識別器一覧\n",
        "https://qiita.com/yhyhyhjp/items/3ca101f1cb5dee310c06\n",
        "\n",
        "結果は失敗。\n",
        "原因推測\n",
        "* 学習データが少ない？\n",
        "* モデルのハイパーパラメータが調整できてない？\n",
        "* 機械学習では無理？ディープラーニングだといける？"
      ]
    },
    {
      "cell_type": "code",
      "metadata": {
        "id": "YoTQI5QAPU1a",
        "colab_type": "code",
        "colab": {}
      },
      "source": [
        "from pandas import DataFrame\n",
        "from sklearn import linear_model\n",
        "import pickle\n",
        "\n",
        "with open('model.pickle', mode='rb') as fp:\n",
        "  model = pickle.load(fp)\n",
        "  \n",
        "  # 加算\n",
        "  x, y = 10, 20\n",
        "  predected_answer = model.predict([[x, y]])\n",
        "  print(\"{0} + {1} = {3}\".format(x, y, z, int(predected_answer[0])))"
      ],
      "execution_count": 0,
      "outputs": []
    },
    {
      "cell_type": "markdown",
      "metadata": {
        "id": "0y5JiL07-Am5",
        "colab_type": "text"
      },
      "source": [
        "csv ファイルからデータ読み込み"
      ]
    },
    {
      "cell_type": "code",
      "metadata": {
        "id": "SVYZKtcBcKog",
        "colab_type": "code",
        "colab": {}
      },
      "source": [
        "import pandas as pd\n",
        "from pandas import DataFrame\n",
        "from sklearn import linear_model\n",
        "from sklearn.neighbors import KNeighborsClassifier\n",
        "from sklearn.svm import SVC\n",
        "from sklearn.tree import DecisionTreeClassifier\n",
        "from sklearn.ensemble import RandomForestClassifier, AdaBoostClassifier\n",
        "from sklearn.naive_bayes import GaussianNB\n",
        "from sklearn.discriminant_analysis import LinearDiscriminantAnalysis\n",
        "from sklearn.discriminant_analysis import QuadraticDiscriminantAnalysis\n",
        "from sklearn.model_selection import train_test_split\n",
        "import sys\n",
        "import os\n",
        "import pickle\n",
        "\n",
        "h = .02  # step size in the mesh\n",
        "\n",
        "classifiers = [\n",
        "    KNeighborsClassifier(3),\n",
        "    SVC(kernel=\"linear\", C=0.025),\n",
        "    SVC(gamma=2, C=1),\n",
        "    DecisionTreeClassifier(max_depth=5),\n",
        "    RandomForestClassifier(max_depth=5, n_estimators=10, max_features=1),\n",
        "    AdaBoostClassifier(),\n",
        "    GaussianNB(),\n",
        "    LinearDiscriminantAnalysis(),\n",
        "    QuadraticDiscriminantAnalysis()]\n",
        "\n",
        "\n",
        "# test file existence\n",
        "testDataFile = \"drive/My Drive/Colab Notebooks/data.csv\"\n",
        "if os.path.isfile(testDataFile) == False:\n",
        "  print(\"file not found\")\n",
        "  sys.exit()\n",
        "  \n",
        "\n",
        "# read file and split data\n",
        "data = pd.read_csv(testDataFile, header=0)\n",
        "X = data.loc[:, ['ope', '1st', '2nd']]\n",
        "Y = data.loc[:, ['ans']]\n",
        "X_train, X_test, Y_train, Y_test = train_test_split(X, Y, train_size=0.8)\n",
        "\n",
        "\n",
        "#learning\n",
        "for model in classifiers:\n",
        "  print(model.__class__.__name__)  \n",
        "  filename = \"drive/My Drive/Colab Notebooks/\"\n",
        "  filename += model.__class__.__name__\n",
        "  filename += \".pickle\"\n",
        "  print(filename)\n",
        "  model.fit(X_train, Y_train)\n",
        "  print(model.score(X_test, Y_test))\n",
        "  print(\"-------\")\n",
        "  \n",
        "  with open(filename, mode='wb') as fp:\n",
        "    pickle.dump(model, fp)"
      ],
      "execution_count": 0,
      "outputs": []
    },
    {
      "cell_type": "markdown",
      "metadata": {
        "id": "NGamz-MCC5oI",
        "colab_type": "text"
      },
      "source": [
        "学習モデルを使って推論\n",
        "90%のスコアのSVCで推論させたが、数値が小さいときはいいけど、2桁になるともうダメ。"
      ]
    },
    {
      "cell_type": "code",
      "metadata": {
        "id": "nAf3ZCeXC8fo",
        "colab_type": "code",
        "colab": {}
      },
      "source": [
        "from pandas import DataFrame\n",
        "from sklearn import linear_model\n",
        "import pickle\n",
        "\n",
        "filename = \"drive/My Drive/Colab Notebooks/\"\n",
        "filename += \"SVC\"\n",
        "filename += \".pickle\"\n",
        "\n",
        "\n",
        "with open(filename, mode='rb') as fp:\n",
        "  model = pickle.load(fp)\n",
        "  \n",
        "  # 加算\n",
        "  ope, x, y = 0, 100, 200\n",
        "  predected_answer = model.predict([[ope, x, y]])\n",
        "  print(\"{0} ,{1}, {2} = {3}\".format(ope, x, y, int(predected_answer[0])))"
      ],
      "execution_count": 0,
      "outputs": []
    },
    {
      "cell_type": "markdown",
      "metadata": {
        "id": "VOkZWQyeCmfb",
        "colab_type": "text"
      },
      "source": [
        "deep learning で学習"
      ]
    },
    {
      "cell_type": "code",
      "metadata": {
        "id": "5qGJYHiwCpxU",
        "colab_type": "code",
        "colab": {
          "base_uri": "https://localhost:8080/",
          "height": 68
        },
        "outputId": "0e63b7bd-f9c5-4d97-e840-e20e66fe4f89"
      },
      "source": [
        "from keras.models import Sequential\n",
        "from keras.layers import Dense\n",
        "from keras.utils import plot_model\n",
        "from sklearn.model_selection import train_test_split\n",
        "import pandas as pd\n",
        "import sys\n",
        "import os\n",
        "\n",
        "# test file existence\n",
        "testDataFile = \"drive/My Drive/Colab Notebooks/data.csv\"\n",
        "if os.path.isfile(testDataFile) == False:\n",
        "  print(\"file not found\")\n",
        "  sys.exit()\n",
        "\n",
        "# read file and split data\n",
        "data = pd.read_csv(testDataFile, header=0)\n",
        "X = data.loc[:, ['ope', '1st', '2nd']]\n",
        "Y = data.loc[:, ['ans']]\n",
        "X_train, X_test, Y_train, Y_test = train_test_split(X, Y, train_size=0.8)\n",
        "\n",
        "# construct model\n",
        "model = Sequential()\n",
        "model.add(Dense(100, activation='relu', input_dim=3))\n",
        "model.add(Dense(100, activation='relu'))\n",
        "model.add(Dense(1, activation='linear'))\n",
        "plot_model(model, to_file='DL_Model.png')\n",
        "model.compile(loss='mean_squared_error', optimizer='Nadam', metrics=['accuracy'])\n",
        "\n",
        "model.fit(X_train, Y_train, epochs=100, batch_size=64, verbose=0)\n",
        "score = model.evaluate(X_test, Y_test)\n",
        "print(\"loss=%f, acc=%f\" % (score[0], score[1]))\n",
        "\n",
        "\n",
        "#save model\n",
        "import pickle\n",
        "filename = \"drive/My Drive/Colab Notebooks/\"\n",
        "filename += \"DL_model\"\n",
        "filename += \".pickle\"\n",
        "print(filename)\n",
        "\n",
        "with open(filename, mode='wb') as fp:\n",
        "  pickle.dump(model, fp)"
      ],
      "execution_count": 39,
      "outputs": [
        {
          "output_type": "stream",
          "text": [
            "3816/3816 [==============================] - 1s 234us/step\n",
            "loss=0.000014, acc=1.000000\n",
            "drive/My Drive/Colab Notebooks/DL_model.pickle\n"
          ],
          "name": "stdout"
        }
      ]
    },
    {
      "cell_type": "markdown",
      "metadata": {
        "id": "Pq55NZcDrc1s",
        "colab_type": "text"
      },
      "source": [
        "deep learning の学習モデルを使って推論する"
      ]
    },
    {
      "cell_type": "code",
      "metadata": {
        "id": "l5ATamfzkI1y",
        "colab_type": "code",
        "outputId": "21b5899c-f206-4b9a-8744-1dd355152ed7",
        "colab": {
          "base_uri": "https://localhost:8080/",
          "height": 34
        }
      },
      "source": [
        "from keras.models import Sequential\n",
        "from keras.layers import Dense\n",
        "from keras.utils import plot_model\n",
        "from pandas import DataFrame\n",
        "import pickle\n",
        "import numpy as np\n",
        "\n",
        "filename = \"drive/My Drive/Colab Notebooks/\"\n",
        "filename += \"DL_model\"\n",
        "filename += \".pickle\"\n",
        "\n",
        "\n",
        "with open(filename, mode='rb') as fp:\n",
        "  model = pickle.load(fp)\n",
        "  \n",
        "  # 加算\n",
        "  ope, x, y = 1, 10, 200\n",
        "  predected_answer = model.predict(np.array([[ope, x, y]]))\n",
        "  print(\"{0} , {1}, {2} = {3}\".format(ope, x, y, int(predected_answer[0])))"
      ],
      "execution_count": 43,
      "outputs": [
        {
          "output_type": "stream",
          "text": [
            "1 , 10, 200 = 213\n"
          ],
          "name": "stdout"
        }
      ]
    }
  ]
}